{
 "cells": [
  {
   "cell_type": "code",
   "execution_count": 31,
   "id": "b0fb297b",
   "metadata": {},
   "outputs": [],
   "source": [
    "import requests\n",
    "import pandas as pd\n",
    "baseurl = \"https://rickandmortyapi.com/api/\"\n",
    "endpoint = \"character\"\n",
    "def main_request(baseurl, endpoint, x):\n",
    "    r = requests.get(baseurl + endpoint + f\"?page={x}\")\n",
    "    return r.json()\n",
    "    return data"
   ]
  },
  {
   "cell_type": "code",
   "execution_count": 37,
   "id": "9a14bef8",
   "metadata": {},
   "outputs": [
    {
     "name": "stdout",
     "output_type": "stream",
     "text": [
      "1\n",
      "2\n",
      "3\n",
      "4\n",
      "5\n",
      "6\n",
      "7\n",
      "8\n",
      "9\n",
      "10\n",
      "11\n",
      "12\n",
      "13\n",
      "14\n",
      "15\n",
      "16\n",
      "17\n",
      "18\n",
      "19\n",
      "20\n",
      "21\n",
      "22\n",
      "23\n",
      "24\n",
      "25\n",
      "26\n",
      "27\n",
      "28\n",
      "29\n",
      "30\n",
      "31\n",
      "32\n",
      "33\n",
      "34\n",
      "35\n",
      "36\n",
      "37\n",
      "38\n",
      "39\n",
      "40\n",
      "41\n",
      "42\n",
      "826\n"
     ]
    }
   ],
   "source": [
    "def get_pages(response):\n",
    "    pages = data[\"info\"][\"pages\"]\n",
    "    return pages\n",
    "\n",
    "def parse_json(response):\n",
    "    charlist = []\n",
    "    for item in response[\"results\"]:\n",
    "        char = {\n",
    "            \"id:\": item[\"id\"],\n",
    "            \"name\": item[\"name\"],\n",
    "            \"no_ep\": len(item[\"episode\"]),\n",
    "        }\n",
    "        charlist.append(char)\n",
    "    return charlist\n",
    "\n",
    "\n",
    "mainlist = []\n",
    "data = main_request(baseurl, endpoint, 1)\n",
    "for x in range(1, get_pages(data) + 1):\n",
    "    print(x)\n",
    "    mainlist.extend(parse_json(main_request(baseurl, endpoint, x)))\n",
    "\n",
    "print(len(mainlist))\n",
    "\n",
    "\n"
   ]
  },
  {
   "cell_type": "code",
   "execution_count": 38,
   "id": "afbf3c24",
   "metadata": {},
   "outputs": [],
   "source": [
    "df = pd.DataFrame(mainlist)\n",
    "df.to_csv(\"characters.csv\", index=False)"
   ]
  },
  {
   "cell_type": "code",
   "execution_count": 16,
   "id": "cfb6280e",
   "metadata": {},
   "outputs": [
    {
     "name": "stdout",
     "output_type": "stream",
     "text": [
      "51\n"
     ]
    }
   ],
   "source": [
    "episodes = data[\"results\"][0][\"episode\"]\n",
    "print(len(episodes))"
   ]
  },
  {
   "cell_type": "code",
   "execution_count": null,
   "id": "96116490",
   "metadata": {},
   "outputs": [],
   "source": []
  }
 ],
 "metadata": {
  "kernelspec": {
   "display_name": "Python 3",
   "language": "python",
   "name": "python3"
  },
  "language_info": {
   "codemirror_mode": {
    "name": "ipython",
    "version": 3
   },
   "file_extension": ".py",
   "mimetype": "text/x-python",
   "name": "python",
   "nbconvert_exporter": "python",
   "pygments_lexer": "ipython3",
   "version": "3.11.9"
  }
 },
 "nbformat": 4,
 "nbformat_minor": 5
}
