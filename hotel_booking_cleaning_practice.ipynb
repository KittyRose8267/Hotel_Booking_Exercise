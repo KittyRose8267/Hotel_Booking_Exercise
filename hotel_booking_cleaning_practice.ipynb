{
 "cells": [
  {
   "cell_type": "code",
   "execution_count": null,
   "id": "541cd88a",
   "metadata": {},
   "outputs": [],
   "source": [
    "import pandas as pd"
   ]
  },
  {
   "cell_type": "code",
   "execution_count": null,
   "id": "3f6c2dd2",
   "metadata": {},
   "outputs": [],
   "source": [
    "df = pd.read_csv('hotel_bookings.csv')\n",
    "print(df.head(5))"
   ]
  },
  {
   "cell_type": "code",
   "execution_count": null,
   "id": "ce7e318a",
   "metadata": {},
   "outputs": [],
   "source": [
    "df.columns\n"
   ]
  },
  {
   "cell_type": "code",
   "execution_count": null,
   "id": "cfb728a4",
   "metadata": {},
   "outputs": [],
   "source": [
    "df.rename({'adults': 'num_adults', 'children': 'num_children', 'babies': 'num_babies'}, axis=1, inplace=True)\n",
    "print(df.head(10))"
   ]
  },
  {
   "cell_type": "code",
   "execution_count": null,
   "id": "c451a02d",
   "metadata": {},
   "outputs": [],
   "source": [
    "df['agent'].fillna(-1, inplace=True)\n",
    "\n",
    "df['country'].fillna('Unknown', inplace=True)\n",
    "df.dropna(subset='num_children',inplace=True)\n",
    "df.drop(columns='company', inplace=True)"
   ]
  },
  {
   "cell_type": "code",
   "execution_count": null,
   "id": "0bd50170",
   "metadata": {},
   "outputs": [],
   "source": [
    "df.dtypes"
   ]
  },
  {
   "cell_type": "code",
   "execution_count": null,
   "id": "250b783c",
   "metadata": {},
   "outputs": [],
   "source": [
    "df = df.astype({'is_canceled': 'boolean', 'is_repeated_guest': 'boolean', 'num_children': 'int8', 'agent': 'int16'})\n",
    "print(df.dtypes)"
   ]
  },
  {
   "cell_type": "code",
   "execution_count": null,
   "id": "9c14a3de",
   "metadata": {},
   "outputs": [],
   "source": [
    "df['lead_time'].unique()\n",
    "df['lead_time'].describe()\n",
    "bins = [0, 100, 200, 300, 400, 500, 600, 700, 800]\n",
    "labels = ['0-100', '101-200', '201-300', '301-400', '401-500', '501-600', '601-700', '701-800']\n",
    "df['lead_time_binned'] = pd.cut(df['lead_time'], bins=bins, labels=labels)\n",
    "print(df[['lead_time', 'lead_time_binned']].head(10))"
   ]
  },
  {
   "cell_type": "code",
   "execution_count": null,
   "id": "24f57ddc",
   "metadata": {},
   "outputs": [],
   "source": [
    "df['arrival_date_month'] = df['arrival_date'].str.split('-', expand=True)[0] \n",
    "df['arrival_date_year'] = df['arrival_date'].str.split('-', expand=True)[1]\n",
    "\n",
    "column_to_move = df.pop('arrival_date_month')\n",
    "df.insert(4,'arrival_date_month', column_to_move)\n",
    "\n",
    "column_to_move = df.pop('arrival_date_year')\n",
    "df.insert(5,'arrival_date_year', column_to_move)"
   ]
  },
  {
   "cell_type": "code",
   "execution_count": null,
   "id": "c0aafcb7",
   "metadata": {},
   "outputs": [],
   "source": [
    "df['hotel'].unique()\n",
    "\n",
    "df['hotel'] = df['hotel'].replace(r\"[\\\"n\\^]\", '', regex=True)\n",
    "df['hotel'].unique()"
   ]
  },
  {
   "cell_type": "code",
   "execution_count": null,
   "id": "a732cf00",
   "metadata": {},
   "outputs": [],
   "source": [
    "# Remove duplicates\n",
    "df.loc[df.duplicated(keep=False)]\n",
    "df.drop_duplicates(keep=\"first\", inplace=True)"
   ]
  }
 ],
 "metadata": {
  "language_info": {
   "name": "python"
  }
 },
 "nbformat": 4,
 "nbformat_minor": 5
}
