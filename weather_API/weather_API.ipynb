{
 "cells": [
  {
   "cell_type": "code",
   "execution_count": null,
   "id": "b29f93ee",
   "metadata": {},
   "outputs": [],
   "source": [
    "baseurl =  \"http://api.weatherapi.com/v1\"\n",
    "key = "
   ]
  },
  {
   "cell_type": "code",
   "execution_count": null,
   "id": "9f7774c0",
   "metadata": {},
   "outputs": [],
   "source": [
    "## http://api.weatherapi.com/v1/current.json?key=<YOUR_API_KEY>&q=London"
   ]
  },
  {
   "cell_type": "code",
   "execution_count": 4,
   "id": "cd0a82c2",
   "metadata": {},
   "outputs": [],
   "source": [
    "import requests\n",
    "import pandas as pd\n",
    "source1 = f\"{baseurl}/current.json?key={key}&q=Tokyo\"\n",
    "response = requests.get(source1)"
   ]
  },
  {
   "cell_type": "code",
   "execution_count": 4,
   "id": "c2a6edcd",
   "metadata": {},
   "outputs": [
    {
     "name": "stdout",
     "output_type": "stream",
     "text": [
      "200\n"
     ]
    }
   ],
   "source": [
    "print(response.status_code)"
   ]
  },
  {
   "cell_type": "code",
   "execution_count": 5,
   "id": "cb73538a",
   "metadata": {},
   "outputs": [
    {
     "name": "stdout",
     "output_type": "stream",
     "text": [
      "{'location': {'name': 'Tokyo', 'region': 'Tokyo', 'country': 'Japan', 'lat': 35.6895, 'lon': 139.6917, 'tz_id': 'Asia/Tokyo', 'localtime_epoch': 1757768829, 'localtime': '2025-09-13 22:07'}, 'current': {'last_updated_epoch': 1757768400, 'last_updated': '2025-09-13 22:00', 'temp_c': 27.4, 'temp_f': 81.3, 'is_day': 0, 'condition': {'text': 'Partly cloudy', 'icon': '//cdn.weatherapi.com/weather/64x64/night/116.png', 'code': 1003}, 'wind_mph': 18.8, 'wind_kph': 30.2, 'wind_degree': 209, 'wind_dir': 'SSW', 'pressure_mb': 1010.0, 'pressure_in': 29.83, 'precip_mm': 0.0, 'precip_in': 0.0, 'humidity': 89, 'cloud': 75, 'feelslike_c': 30.0, 'feelslike_f': 86.0, 'windchill_c': 28.0, 'windchill_f': 82.5, 'heatindex_c': 31.2, 'heatindex_f': 88.1, 'dewpoint_c': 22.4, 'dewpoint_f': 72.3, 'vis_km': 10.0, 'vis_miles': 6.0, 'uv': 0.0, 'gust_mph': 25.9, 'gust_kph': 41.7, 'short_rad': 0, 'diff_rad': 0, 'dni': 0, 'gti': 0}}\n"
     ]
    }
   ],
   "source": [
    "data = response.json()\n",
    "print(data)"
   ]
  },
  {
   "cell_type": "code",
   "execution_count": 9,
   "id": "7ca2d374",
   "metadata": {},
   "outputs": [],
   "source": [
    "current = data['current']\n",
    "location = data['location']\n",
    "temperature_f = current['temp_f']\n",
    "wind_mph = current['wind_mph']\n",
    "humidity = current['humidity']\n",
    "city = location['name']\n",
    "date = location['localtime']"
   ]
  },
  {
   "cell_type": "code",
   "execution_count": 14,
   "id": "50a820f8",
   "metadata": {},
   "outputs": [
    {
     "data": {
      "text/plain": [
       "{'city': 'New York',\n",
       " 'date': '2025-09-13 09:14',\n",
       " 'temperature_f': 66.0,\n",
       " 'wind_mph': 4.7,\n",
       " 'humidity': 81}"
      ]
     },
     "execution_count": 14,
     "metadata": {},
     "output_type": "execute_result"
    }
   ],
   "source": [
    "\n",
    "def get_weather(city):\n",
    "    url = f\"{baseurl}/current.json?key={key}&q={city}\"\n",
    "    response = requests.get(url)\n",
    "    if response.status_code == 200:\n",
    "        data = response.json()\n",
    "        current = data['current']\n",
    "        location = data['location']\n",
    "        weather_info = {\n",
    "            'city': location['name'],\n",
    "            'date': location['localtime'],\n",
    "            'temperature_f': current['temp_f'],\n",
    "            'wind_mph': current['wind_mph'],\n",
    "            'humidity': current['humidity']\n",
    "        }\n",
    "        return weather_info\n",
    "    else:\n",
    "        return None\n",
    "get_weather(\"New York\")"
   ]
  },
  {
   "cell_type": "code",
   "execution_count": 29,
   "id": "ebb76a89",
   "metadata": {},
   "outputs": [],
   "source": [
    "cities = [\"Louisville\", \"Berea\", \"Richmond\", \"Tokyo\", \"New York\"]\n",
    "weather_data = []\n",
    "for city in cities:\n",
    "    url = f\"{baseurl}/current.json?key={key}&q={city}\"\n",
    "    response = requests.get(url)\n",
    "    if response.status_code == 200:\n",
    "      data = response.json()\n",
    "      weather_data.append({\n",
    "        'city': data['location']['name'],\n",
    "        'date': data['location']['localtime'],\n",
    "        'temperature_f': data['current']['temp_f'],\n",
    "        'wind_mph': data['current']['wind_mph'],\n",
    "        'humidity': data['current']['humidity'],\n",
    "        'condition': data['current']['condition']['text']\n",
    "      })\n",
    "    else:\n",
    "        print(f\"Failed to get data for {city}\")"
   ]
  },
  {
   "cell_type": "code",
   "execution_count": 30,
   "id": "f970fe90",
   "metadata": {},
   "outputs": [
    {
     "data": {
      "text/plain": [
       "[{'city': 'Louisville',\n",
       "  'date': '2025-09-13 09:21',\n",
       "  'temperature_f': 64.9,\n",
       "  'wind_mph': 3.4,\n",
       "  'humidity': 78,\n",
       "  'condition': 'Sunny'},\n",
       " {'city': 'Berea',\n",
       "  'date': '2025-09-13 09:23',\n",
       "  'temperature_f': 61.0,\n",
       "  'wind_mph': 2.9,\n",
       "  'humidity': 83,\n",
       "  'condition': 'Partly cloudy'},\n",
       " {'city': 'Richmond',\n",
       "  'date': '2025-09-13 09:27',\n",
       "  'temperature_f': 66.0,\n",
       "  'wind_mph': 2.5,\n",
       "  'humidity': 75,\n",
       "  'condition': 'Sunny'},\n",
       " {'city': 'Tokyo',\n",
       "  'date': '2025-09-13 22:26',\n",
       "  'temperature_f': 82.9,\n",
       "  'wind_mph': 18.8,\n",
       "  'humidity': 84,\n",
       "  'condition': 'Partly cloudy'},\n",
       " {'city': 'New York',\n",
       "  'date': '2025-09-13 09:23',\n",
       "  'temperature_f': 68.2,\n",
       "  'wind_mph': 4.7,\n",
       "  'humidity': 76,\n",
       "  'condition': 'Partly cloudy'}]"
      ]
     },
     "execution_count": 30,
     "metadata": {},
     "output_type": "execute_result"
    }
   ],
   "source": [
    "weather_data"
   ]
  },
  {
   "cell_type": "code",
   "execution_count": 31,
   "id": "8712de6b",
   "metadata": {},
   "outputs": [],
   "source": [
    "weather_df = pd.DataFrame(weather_data)"
   ]
  },
  {
   "cell_type": "code",
   "execution_count": 32,
   "id": "a0fb76d2",
   "metadata": {},
   "outputs": [
    {
     "data": {
      "text/html": [
       "<div>\n",
       "<style scoped>\n",
       "    .dataframe tbody tr th:only-of-type {\n",
       "        vertical-align: middle;\n",
       "    }\n",
       "\n",
       "    .dataframe tbody tr th {\n",
       "        vertical-align: top;\n",
       "    }\n",
       "\n",
       "    .dataframe thead th {\n",
       "        text-align: right;\n",
       "    }\n",
       "</style>\n",
       "<table border=\"1\" class=\"dataframe\">\n",
       "  <thead>\n",
       "    <tr style=\"text-align: right;\">\n",
       "      <th></th>\n",
       "      <th>city</th>\n",
       "      <th>date</th>\n",
       "      <th>temperature_f</th>\n",
       "      <th>wind_mph</th>\n",
       "      <th>humidity</th>\n",
       "      <th>condition</th>\n",
       "    </tr>\n",
       "  </thead>\n",
       "  <tbody>\n",
       "    <tr>\n",
       "      <th>0</th>\n",
       "      <td>Louisville</td>\n",
       "      <td>2025-09-13 09:21</td>\n",
       "      <td>64.9</td>\n",
       "      <td>3.4</td>\n",
       "      <td>78</td>\n",
       "      <td>Sunny</td>\n",
       "    </tr>\n",
       "    <tr>\n",
       "      <th>1</th>\n",
       "      <td>Berea</td>\n",
       "      <td>2025-09-13 09:23</td>\n",
       "      <td>61.0</td>\n",
       "      <td>2.9</td>\n",
       "      <td>83</td>\n",
       "      <td>Partly cloudy</td>\n",
       "    </tr>\n",
       "    <tr>\n",
       "      <th>2</th>\n",
       "      <td>Richmond</td>\n",
       "      <td>2025-09-13 09:27</td>\n",
       "      <td>66.0</td>\n",
       "      <td>2.5</td>\n",
       "      <td>75</td>\n",
       "      <td>Sunny</td>\n",
       "    </tr>\n",
       "    <tr>\n",
       "      <th>3</th>\n",
       "      <td>Tokyo</td>\n",
       "      <td>2025-09-13 22:26</td>\n",
       "      <td>82.9</td>\n",
       "      <td>18.8</td>\n",
       "      <td>84</td>\n",
       "      <td>Partly cloudy</td>\n",
       "    </tr>\n",
       "    <tr>\n",
       "      <th>4</th>\n",
       "      <td>New York</td>\n",
       "      <td>2025-09-13 09:23</td>\n",
       "      <td>68.2</td>\n",
       "      <td>4.7</td>\n",
       "      <td>76</td>\n",
       "      <td>Partly cloudy</td>\n",
       "    </tr>\n",
       "  </tbody>\n",
       "</table>\n",
       "</div>"
      ],
      "text/plain": [
       "         city              date  temperature_f  wind_mph  humidity  \\\n",
       "0  Louisville  2025-09-13 09:21           64.9       3.4        78   \n",
       "1       Berea  2025-09-13 09:23           61.0       2.9        83   \n",
       "2    Richmond  2025-09-13 09:27           66.0       2.5        75   \n",
       "3       Tokyo  2025-09-13 22:26           82.9      18.8        84   \n",
       "4    New York  2025-09-13 09:23           68.2       4.7        76   \n",
       "\n",
       "       condition  \n",
       "0          Sunny  \n",
       "1  Partly cloudy  \n",
       "2          Sunny  \n",
       "3  Partly cloudy  \n",
       "4  Partly cloudy  "
      ]
     },
     "execution_count": 32,
     "metadata": {},
     "output_type": "execute_result"
    }
   ],
   "source": [
    "weather_df.head()"
   ]
  },
  {
   "cell_type": "code",
   "execution_count": 34,
   "id": "e4bb27a9",
   "metadata": {},
   "outputs": [],
   "source": [
    "weather_df.to_csv(\"weather_data.csv\", index=False)"
   ]
  }
 ],
 "metadata": {
  "kernelspec": {
   "display_name": "Python 3",
   "language": "python",
   "name": "python3"
  },
  "language_info": {
   "codemirror_mode": {
    "name": "ipython",
    "version": 3
   },
   "file_extension": ".py",
   "mimetype": "text/x-python",
   "name": "python",
   "nbconvert_exporter": "python",
   "pygments_lexer": "ipython3",
   "version": "3.11.9"
  }
 },
 "nbformat": 4,
 "nbformat_minor": 5
}
