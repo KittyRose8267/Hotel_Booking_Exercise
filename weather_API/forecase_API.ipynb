{
 "cells": [
  {
   "cell_type": "code",
   "execution_count": null,
   "id": "a11074ff",
   "metadata": {},
   "outputs": [],
   "source": [
    "baseurl =  \"http://api.weatherapi.com/v1\"\n",
    "key = "
   ]
  },
  {
   "cell_type": "code",
   "execution_count": 2,
   "id": "7bd4354a",
   "metadata": {},
   "outputs": [],
   "source": [
    "import requests\n",
    "import pandas as pd\n",
    "from datetime import datetime\n",
    "source1 = f\"{baseurl}/current.json?key={key}&q=Tokyo\"\n",
    "response = requests.get(source1)"
   ]
  },
  {
   "cell_type": "code",
   "execution_count": 3,
   "id": "4a9eed05",
   "metadata": {},
   "outputs": [
    {
     "name": "stdout",
     "output_type": "stream",
     "text": [
      "200\n"
     ]
    }
   ],
   "source": [
    "forecase_url = f\"{baseurl}/forecast.json?key={key}&q=Tokyo&days=3\"\n",
    "forecase_response = requests.get(forecase_url)\n",
    "print(forecase_response.status_code)"
   ]
  },
  {
   "cell_type": "code",
   "execution_count": 4,
   "id": "d622ec61",
   "metadata": {},
   "outputs": [],
   "source": [
    "forecast_data = forecase_response.json()\n",
    "forecast = forecast_data['forecast']['forecastday']"
   ]
  },
  {
   "cell_type": "code",
   "execution_count": 5,
   "id": "28657c0a",
   "metadata": {},
   "outputs": [],
   "source": [
    "forecast_3days_summary = []\n",
    "for day in forecast:\n",
    "    forecast_3days_summary.append(\n",
    "        {\n",
    "            'date': day['date'],\n",
    "            'avg_temp_f': day['day']['avgtemp_f'],\n",
    "            'condition': day['day']['condition']['text'],\n",
    "            'high_temp_f': day['day']['maxtemp_f'],\n",
    "            'low_temp_f': day['day']['mintemp_f'],\n",
    "            'astro': day['astro'],\n",
    "        }\n",
    "    )"
   ]
  },
  {
   "cell_type": "code",
   "execution_count": 16,
   "id": "d089a0c5",
   "metadata": {},
   "outputs": [
    {
     "data": {
      "text/plain": [
       "[{'date': '2025-09-13',\n",
       "  'avg_temp_f': 80.9,\n",
       "  'condition': 'Moderate rain',\n",
       "  'high_temp_f': 86.6,\n",
       "  'low_temp_f': 75.8,\n",
       "  'astro': {'sunrise': '05:22 AM',\n",
       "   'sunset': '05:52 PM',\n",
       "   'moonrise': '09:10 PM',\n",
       "   'moonset': '11:32 AM',\n",
       "   'moon_phase': 'Waning Gibbous',\n",
       "   'moon_illumination': 66,\n",
       "   'is_moon_up': 1,\n",
       "   'is_sun_up': 0}},\n",
       " {'date': '2025-09-14',\n",
       "  'avg_temp_f': 84.9,\n",
       "  'condition': 'Sunny',\n",
       "  'high_temp_f': 89.2,\n",
       "  'low_temp_f': 81.5,\n",
       "  'astro': {'sunrise': '05:23 AM',\n",
       "   'sunset': '05:50 PM',\n",
       "   'moonrise': '10:05 PM',\n",
       "   'moonset': '12:42 PM',\n",
       "   'moon_phase': 'Last Quarter',\n",
       "   'moon_illumination': 55,\n",
       "   'is_moon_up': 1,\n",
       "   'is_sun_up': 1}},\n",
       " {'date': '2025-09-15',\n",
       "  'avg_temp_f': 82.7,\n",
       "  'condition': 'Patchy rain nearby',\n",
       "  'high_temp_f': 88.0,\n",
       "  'low_temp_f': 78.7,\n",
       "  'astro': {'sunrise': '05:24 AM',\n",
       "   'sunset': '05:49 PM',\n",
       "   'moonrise': '11:08 PM',\n",
       "   'moonset': '01:46 PM',\n",
       "   'moon_phase': 'Waning Crescent',\n",
       "   'moon_illumination': 44,\n",
       "   'is_moon_up': 1,\n",
       "   'is_sun_up': 1}}]"
      ]
     },
     "execution_count": 16,
     "metadata": {},
     "output_type": "execute_result"
    }
   ],
   "source": [
    "forecast_3days_summary"
   ]
  },
  {
   "cell_type": "code",
   "execution_count": 26,
   "id": "596d7352",
   "metadata": {},
   "outputs": [
    {
     "data": {
      "text/plain": [
       "['Monday,September,15: Temp 81.7F - Patchy rain nearby ',\n",
       " 'Tuesday,September,16: Temp 82.9F - Patchy rain nearby ',\n",
       " 'Wednesday,September,17: Temp 84.8F - Patchy rain nearby ']"
      ]
     },
     "execution_count": 26,
     "metadata": {},
     "output_type": "execute_result"
    }
   ],
   "source": [
    "forecast_3days_summary = []\n",
    "for day in forecast:\n",
    "    date_obj = datetime.strptime(day['date'], '%Y-%m-%d')\n",
    "    formated_date = date_obj.strftime('%A,%B,%#d')\n",
    "    forecast_3days_summary.append(f\"{formated_date}: Temp {day['day']['avgtemp_f']}F - {day['day']['condition']['text']} \")\n",
    "\n",
    "forecast_3days_summary"
   ]
  },
  {
   "cell_type": "code",
   "execution_count": 4,
   "id": "c52f0d48",
   "metadata": {},
   "outputs": [],
   "source": [
    "today = pd.Timestamp.now().strftime('%Y-%m-%d')\n",
    "astronomy_url = f\"{baseurl}/astronomy.json?key={key}&q=Tokyo&dt{today}\""
   ]
  },
  {
   "cell_type": "code",
   "execution_count": 8,
   "id": "fde83372",
   "metadata": {},
   "outputs": [
    {
     "name": "stdout",
     "output_type": "stream",
     "text": [
      "{'New York Weather': {'current': {'city': 'New York', 'temp_f': 61.0, 'condition': 'Sunny', 'air_quality': 1, 'astronomy': {'sunrise': '06:42 AM', 'sunset': '06:56 PM', 'moonrise': '05:22 AM', 'moonset': '06:27 PM', 'moon_phase': 'Waning Crescent', 'moon_illumination': 3, 'is_moon_up': 1, 'is_sun_up': 1}}, 'forecast_5days_summary': [{'date': '2025-09-20', 'avg_temp_f': 66.1, 'max_temp_f': 72.1, 'min_temp_f': 59.5, 'condition': 'Partly Cloudy '}, {'date': '2025-09-21', 'avg_temp_f': 63.8, 'max_temp_f': 69.4, 'min_temp_f': 58.6, 'condition': 'Partly Cloudy '}, {'date': '2025-09-22', 'avg_temp_f': 65.8, 'max_temp_f': 72.8, 'min_temp_f': 61.9, 'condition': 'Overcast '}, {'date': '2025-09-23', 'avg_temp_f': 73.7, 'max_temp_f': 84.2, 'min_temp_f': 66.1, 'condition': 'Patchy rain nearby'}, {'date': '2025-09-24', 'avg_temp_f': 72.9, 'max_temp_f': 81.6, 'min_temp_f': 67.8, 'condition': 'Sunny'}], 'astronomy': {'sunrise': '06:42 AM', 'sunset': '06:56 PM', 'moonrise': '05:22 AM', 'moonset': '06:27 PM', 'moon_phase': 'Waning Crescent', 'moon_illumination': 3, 'is_moon_up': 1, 'is_sun_up': 1}}, 'Tokyo Weather': {'current': {'city': 'Tokyo', 'temp_f': 81.1, 'condition': 'Partly cloudy', 'air_quality': 3, 'astronomy': {'sunrise': '05:28 AM', 'sunset': '05:42 PM', 'moonrise': '03:36 AM', 'moonset': '04:56 PM', 'moon_phase': 'Waning Crescent', 'moon_illumination': 5, 'is_moon_up': 0, 'is_sun_up': 0}}, 'forecast_5days_summary': [{'date': '2025-09-20', 'avg_temp_f': 76.3, 'max_temp_f': 78.7, 'min_temp_f': 73.7, 'condition': 'Patchy rain nearby'}, {'date': '2025-09-21', 'avg_temp_f': 79.8, 'max_temp_f': 88.1, 'min_temp_f': 74.5, 'condition': 'Patchy rain nearby'}, {'date': '2025-09-22', 'avg_temp_f': 74.5, 'max_temp_f': 80.3, 'min_temp_f': 70.8, 'condition': 'Patchy rain nearby'}, {'date': '2025-09-23', 'avg_temp_f': 75.1, 'max_temp_f': 80.0, 'min_temp_f': 70.8, 'condition': 'Partly Cloudy '}, {'date': '2025-09-24', 'avg_temp_f': 76.4, 'max_temp_f': 80.3, 'min_temp_f': 73.5, 'condition': 'Partly Cloudy '}], 'astronomy': {'sunrise': '05:28 AM', 'sunset': '05:42 PM', 'moonrise': '03:36 AM', 'moonset': '04:56 PM', 'moon_phase': 'Waning Crescent', 'moon_illumination': 5, 'is_moon_up': 0, 'is_sun_up': 0}}, 'London Weather': {'current': {'city': 'London', 'temp_f': 66.6, 'condition': 'Partly cloudy', 'air_quality': 2, 'astronomy': {'sunrise': '06:43 AM', 'sunset': '07:03 PM', 'moonrise': '04:57 AM', 'moonset': '06:37 PM', 'moon_phase': 'Waning Crescent', 'moon_illumination': 4, 'is_moon_up': 1, 'is_sun_up': 1}}, 'forecast_5days_summary': [{'date': '2025-09-20', 'avg_temp_f': 62.1, 'max_temp_f': 69.2, 'min_temp_f': 54.3, 'condition': 'Patchy rain nearby'}, {'date': '2025-09-21', 'avg_temp_f': 54.0, 'max_temp_f': 57.6, 'min_temp_f': 50.7, 'condition': 'Partly Cloudy '}, {'date': '2025-09-22', 'avg_temp_f': 53.4, 'max_temp_f': 59.7, 'min_temp_f': 48.5, 'condition': 'Partly Cloudy '}, {'date': '2025-09-23', 'avg_temp_f': 53.6, 'max_temp_f': 61.2, 'min_temp_f': 46.5, 'condition': 'Partly Cloudy '}, {'date': '2025-09-24', 'avg_temp_f': 53.7, 'max_temp_f': 58.1, 'min_temp_f': 51.4, 'condition': 'Patchy rain nearby'}], 'astronomy': {'sunrise': '06:43 AM', 'sunset': '07:03 PM', 'moonrise': '04:57 AM', 'moonset': '06:37 PM', 'moon_phase': 'Waning Crescent', 'moon_illumination': 4, 'is_moon_up': 1, 'is_sun_up': 1}}}\n"
     ]
    }
   ],
   "source": [
    "def get_city(city, key):\n",
    "    # get current weather\n",
    "    source1 = f\"{baseurl}/current.json?key={key}&q={city}&aqi=yes\"\n",
    "    response = requests.get(source1)\n",
    "    current_data = response.json()\n",
    "    current = {\n",
    "        'city': city,\n",
    "        'temp_f': current_data['current']['temp_f'],\n",
    "        'condition': current_data['current']['condition']['text'],\n",
    "        'air_quality': current_data['current']['air_quality']['us-epa-index'],\n",
    "    }\n",
    "    # get a forecast\n",
    "    forecasturl = f\"{baseurl}/forecast.json?key={key}&q={city}&days=5\"\n",
    "    forecast_response = requests.get(forecasturl)\n",
    "    forecast_data = forecast_response.json()\n",
    "    forecast = forecast_data['forecast']['forecastday']\n",
    "    forecast_5days_summary = []\n",
    "    for day in forecast:\n",
    "        forecast_5days_summary.append(\n",
    "            {\n",
    "                'date': day['date'],\n",
    "                'avg_temp_f': day['day']['avgtemp_f'],\n",
    "                'max_temp_f': day['day']['maxtemp_f'],\n",
    "                'min_temp_f': day['day']['mintemp_f'],\n",
    "                'condition': day['day']['condition']['text'],\n",
    "            }\n",
    "        )\n",
    "\n",
    "    # get astronomy data\n",
    "    astronomy_url = f\"{baseurl}/astronomy.json?key={key}&q={city}&dt={today}\"\n",
    "    astronomy_response = requests.get(astronomy_url)\n",
    "    astronomy_data = astronomy_response.json()\n",
    "    astronomy = astronomy_data['astronomy']['astro']\n",
    "    current['astronomy'] = astronomy\n",
    "    # get another piece of data (your choice) (Air Quality added in)\n",
    "\n",
    "    # save it into a dictionary\n",
    "\n",
    "    return {\n",
    "        'current': current,\n",
    "        'forecast_5days_summary': forecast_5days_summary,\n",
    "      'astronomy': astronomy,\n",
    "    }\n",
    "\n",
    "results = {}\n",
    "results['New York Weather'] = get_city('New York', key)\n",
    "results['Tokyo Weather'] = get_city('Tokyo', key)\n",
    "results['London Weather'] = get_city('London', key)\n",
    "\n",
    "print(results)\n"
   ]
  }
 ],
 "metadata": {
  "kernelspec": {
   "display_name": "Python 3",
   "language": "python",
   "name": "python3"
  },
  "language_info": {
   "codemirror_mode": {
    "name": "ipython",
    "version": 3
   },
   "file_extension": ".py",
   "mimetype": "text/x-python",
   "name": "python",
   "nbconvert_exporter": "python",
   "pygments_lexer": "ipython3",
   "version": "3.11.9"
  }
 },
 "nbformat": 4,
 "nbformat_minor": 5
}
